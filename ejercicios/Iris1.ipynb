{
  "nbformat": 4,
  "nbformat_minor": 0,
  "metadata": {
    "colab": {
      "provenance": [],
      "authorship_tag": "ABX9TyPdULkYSdIpWUnpLK+8DcXk",
      "include_colab_link": true
    },
    "kernelspec": {
      "name": "python3",
      "display_name": "Python 3"
    },
    "language_info": {
      "name": "python"
    }
  },
  "cells": [
    {
      "cell_type": "markdown",
      "metadata": {
        "id": "view-in-github",
        "colab_type": "text"
      },
      "source": [
        "<a href=\"https://colab.research.google.com/github/Eduardo20023/-cvv-d/blob/main/ejercicios/Iris1.ipynb\" target=\"_parent\"><img src=\"https://colab.research.google.com/assets/colab-badge.svg\" alt=\"Open In Colab\"/></a>"
      ]
    },
    {
      "cell_type": "code",
      "execution_count": 10,
      "metadata": {
        "id": "2Z2LShnVT6Gz"
      },
      "outputs": [],
      "source": [
        "from keras.models import Sequential\n",
        "from keras.layers import Dense\n",
        "from keras.utils import to_categorical\n",
        "from sklearn.model_selection import train_test_split\n",
        "from sklearn.preprocessing import MinMaxScaler\n",
        "import numpy as np\n",
        "import matplotlib.pyplot as plt\n",
        "from sklearn.datasets import load_iris\n"
      ]
    },
    {
      "cell_type": "code",
      "source": [
        "iris = load_iris()  #Cargar la base de datos"
      ],
      "metadata": {
        "id": "gjtOvmxCVjrf"
      },
      "execution_count": 11,
      "outputs": []
    },
    {
      "cell_type": "code",
      "source": [
        "iris #verificar la base de datos"
      ],
      "metadata": {
        "colab": {
          "base_uri": "https://localhost:8080/"
        },
        "id": "1OLvVuS6Vmz_",
        "outputId": "a4f19662-2321-49f9-d700-f1a0d0f188ce"
      },
      "execution_count": 18,
      "outputs": [
        {
          "output_type": "execute_result",
          "data": {
            "text/plain": [
              "{'data': array([[5.1, 3.5, 1.4, 0.2],\n",
              "        [4.9, 3. , 1.4, 0.2],\n",
              "        [4.7, 3.2, 1.3, 0.2],\n",
              "        [4.6, 3.1, 1.5, 0.2],\n",
              "        [5. , 3.6, 1.4, 0.2],\n",
              "        [5.4, 3.9, 1.7, 0.4],\n",
              "        [4.6, 3.4, 1.4, 0.3],\n",
              "        [5. , 3.4, 1.5, 0.2],\n",
              "        [4.4, 2.9, 1.4, 0.2],\n",
              "        [4.9, 3.1, 1.5, 0.1],\n",
              "        [5.4, 3.7, 1.5, 0.2],\n",
              "        [4.8, 3.4, 1.6, 0.2],\n",
              "        [4.8, 3. , 1.4, 0.1],\n",
              "        [4.3, 3. , 1.1, 0.1],\n",
              "        [5.8, 4. , 1.2, 0.2],\n",
              "        [5.7, 4.4, 1.5, 0.4],\n",
              "        [5.4, 3.9, 1.3, 0.4],\n",
              "        [5.1, 3.5, 1.4, 0.3],\n",
              "        [5.7, 3.8, 1.7, 0.3],\n",
              "        [5.1, 3.8, 1.5, 0.3],\n",
              "        [5.4, 3.4, 1.7, 0.2],\n",
              "        [5.1, 3.7, 1.5, 0.4],\n",
              "        [4.6, 3.6, 1. , 0.2],\n",
              "        [5.1, 3.3, 1.7, 0.5],\n",
              "        [4.8, 3.4, 1.9, 0.2],\n",
              "        [5. , 3. , 1.6, 0.2],\n",
              "        [5. , 3.4, 1.6, 0.4],\n",
              "        [5.2, 3.5, 1.5, 0.2],\n",
              "        [5.2, 3.4, 1.4, 0.2],\n",
              "        [4.7, 3.2, 1.6, 0.2],\n",
              "        [4.8, 3.1, 1.6, 0.2],\n",
              "        [5.4, 3.4, 1.5, 0.4],\n",
              "        [5.2, 4.1, 1.5, 0.1],\n",
              "        [5.5, 4.2, 1.4, 0.2],\n",
              "        [4.9, 3.1, 1.5, 0.2],\n",
              "        [5. , 3.2, 1.2, 0.2],\n",
              "        [5.5, 3.5, 1.3, 0.2],\n",
              "        [4.9, 3.6, 1.4, 0.1],\n",
              "        [4.4, 3. , 1.3, 0.2],\n",
              "        [5.1, 3.4, 1.5, 0.2],\n",
              "        [5. , 3.5, 1.3, 0.3],\n",
              "        [4.5, 2.3, 1.3, 0.3],\n",
              "        [4.4, 3.2, 1.3, 0.2],\n",
              "        [5. , 3.5, 1.6, 0.6],\n",
              "        [5.1, 3.8, 1.9, 0.4],\n",
              "        [4.8, 3. , 1.4, 0.3],\n",
              "        [5.1, 3.8, 1.6, 0.2],\n",
              "        [4.6, 3.2, 1.4, 0.2],\n",
              "        [5.3, 3.7, 1.5, 0.2],\n",
              "        [5. , 3.3, 1.4, 0.2],\n",
              "        [7. , 3.2, 4.7, 1.4],\n",
              "        [6.4, 3.2, 4.5, 1.5],\n",
              "        [6.9, 3.1, 4.9, 1.5],\n",
              "        [5.5, 2.3, 4. , 1.3],\n",
              "        [6.5, 2.8, 4.6, 1.5],\n",
              "        [5.7, 2.8, 4.5, 1.3],\n",
              "        [6.3, 3.3, 4.7, 1.6],\n",
              "        [4.9, 2.4, 3.3, 1. ],\n",
              "        [6.6, 2.9, 4.6, 1.3],\n",
              "        [5.2, 2.7, 3.9, 1.4],\n",
              "        [5. , 2. , 3.5, 1. ],\n",
              "        [5.9, 3. , 4.2, 1.5],\n",
              "        [6. , 2.2, 4. , 1. ],\n",
              "        [6.1, 2.9, 4.7, 1.4],\n",
              "        [5.6, 2.9, 3.6, 1.3],\n",
              "        [6.7, 3.1, 4.4, 1.4],\n",
              "        [5.6, 3. , 4.5, 1.5],\n",
              "        [5.8, 2.7, 4.1, 1. ],\n",
              "        [6.2, 2.2, 4.5, 1.5],\n",
              "        [5.6, 2.5, 3.9, 1.1],\n",
              "        [5.9, 3.2, 4.8, 1.8],\n",
              "        [6.1, 2.8, 4. , 1.3],\n",
              "        [6.3, 2.5, 4.9, 1.5],\n",
              "        [6.1, 2.8, 4.7, 1.2],\n",
              "        [6.4, 2.9, 4.3, 1.3],\n",
              "        [6.6, 3. , 4.4, 1.4],\n",
              "        [6.8, 2.8, 4.8, 1.4],\n",
              "        [6.7, 3. , 5. , 1.7],\n",
              "        [6. , 2.9, 4.5, 1.5],\n",
              "        [5.7, 2.6, 3.5, 1. ],\n",
              "        [5.5, 2.4, 3.8, 1.1],\n",
              "        [5.5, 2.4, 3.7, 1. ],\n",
              "        [5.8, 2.7, 3.9, 1.2],\n",
              "        [6. , 2.7, 5.1, 1.6],\n",
              "        [5.4, 3. , 4.5, 1.5],\n",
              "        [6. , 3.4, 4.5, 1.6],\n",
              "        [6.7, 3.1, 4.7, 1.5],\n",
              "        [6.3, 2.3, 4.4, 1.3],\n",
              "        [5.6, 3. , 4.1, 1.3],\n",
              "        [5.5, 2.5, 4. , 1.3],\n",
              "        [5.5, 2.6, 4.4, 1.2],\n",
              "        [6.1, 3. , 4.6, 1.4],\n",
              "        [5.8, 2.6, 4. , 1.2],\n",
              "        [5. , 2.3, 3.3, 1. ],\n",
              "        [5.6, 2.7, 4.2, 1.3],\n",
              "        [5.7, 3. , 4.2, 1.2],\n",
              "        [5.7, 2.9, 4.2, 1.3],\n",
              "        [6.2, 2.9, 4.3, 1.3],\n",
              "        [5.1, 2.5, 3. , 1.1],\n",
              "        [5.7, 2.8, 4.1, 1.3],\n",
              "        [6.3, 3.3, 6. , 2.5],\n",
              "        [5.8, 2.7, 5.1, 1.9],\n",
              "        [7.1, 3. , 5.9, 2.1],\n",
              "        [6.3, 2.9, 5.6, 1.8],\n",
              "        [6.5, 3. , 5.8, 2.2],\n",
              "        [7.6, 3. , 6.6, 2.1],\n",
              "        [4.9, 2.5, 4.5, 1.7],\n",
              "        [7.3, 2.9, 6.3, 1.8],\n",
              "        [6.7, 2.5, 5.8, 1.8],\n",
              "        [7.2, 3.6, 6.1, 2.5],\n",
              "        [6.5, 3.2, 5.1, 2. ],\n",
              "        [6.4, 2.7, 5.3, 1.9],\n",
              "        [6.8, 3. , 5.5, 2.1],\n",
              "        [5.7, 2.5, 5. , 2. ],\n",
              "        [5.8, 2.8, 5.1, 2.4],\n",
              "        [6.4, 3.2, 5.3, 2.3],\n",
              "        [6.5, 3. , 5.5, 1.8],\n",
              "        [7.7, 3.8, 6.7, 2.2],\n",
              "        [7.7, 2.6, 6.9, 2.3],\n",
              "        [6. , 2.2, 5. , 1.5],\n",
              "        [6.9, 3.2, 5.7, 2.3],\n",
              "        [5.6, 2.8, 4.9, 2. ],\n",
              "        [7.7, 2.8, 6.7, 2. ],\n",
              "        [6.3, 2.7, 4.9, 1.8],\n",
              "        [6.7, 3.3, 5.7, 2.1],\n",
              "        [7.2, 3.2, 6. , 1.8],\n",
              "        [6.2, 2.8, 4.8, 1.8],\n",
              "        [6.1, 3. , 4.9, 1.8],\n",
              "        [6.4, 2.8, 5.6, 2.1],\n",
              "        [7.2, 3. , 5.8, 1.6],\n",
              "        [7.4, 2.8, 6.1, 1.9],\n",
              "        [7.9, 3.8, 6.4, 2. ],\n",
              "        [6.4, 2.8, 5.6, 2.2],\n",
              "        [6.3, 2.8, 5.1, 1.5],\n",
              "        [6.1, 2.6, 5.6, 1.4],\n",
              "        [7.7, 3. , 6.1, 2.3],\n",
              "        [6.3, 3.4, 5.6, 2.4],\n",
              "        [6.4, 3.1, 5.5, 1.8],\n",
              "        [6. , 3. , 4.8, 1.8],\n",
              "        [6.9, 3.1, 5.4, 2.1],\n",
              "        [6.7, 3.1, 5.6, 2.4],\n",
              "        [6.9, 3.1, 5.1, 2.3],\n",
              "        [5.8, 2.7, 5.1, 1.9],\n",
              "        [6.8, 3.2, 5.9, 2.3],\n",
              "        [6.7, 3.3, 5.7, 2.5],\n",
              "        [6.7, 3. , 5.2, 2.3],\n",
              "        [6.3, 2.5, 5. , 1.9],\n",
              "        [6.5, 3. , 5.2, 2. ],\n",
              "        [6.2, 3.4, 5.4, 2.3],\n",
              "        [5.9, 3. , 5.1, 1.8]]),\n",
              " 'target': array([0, 0, 0, 0, 0, 0, 0, 0, 0, 0, 0, 0, 0, 0, 0, 0, 0, 0, 0, 0, 0, 0,\n",
              "        0, 0, 0, 0, 0, 0, 0, 0, 0, 0, 0, 0, 0, 0, 0, 0, 0, 0, 0, 0, 0, 0,\n",
              "        0, 0, 0, 0, 0, 0, 1, 1, 1, 1, 1, 1, 1, 1, 1, 1, 1, 1, 1, 1, 1, 1,\n",
              "        1, 1, 1, 1, 1, 1, 1, 1, 1, 1, 1, 1, 1, 1, 1, 1, 1, 1, 1, 1, 1, 1,\n",
              "        1, 1, 1, 1, 1, 1, 1, 1, 1, 1, 1, 1, 2, 2, 2, 2, 2, 2, 2, 2, 2, 2,\n",
              "        2, 2, 2, 2, 2, 2, 2, 2, 2, 2, 2, 2, 2, 2, 2, 2, 2, 2, 2, 2, 2, 2,\n",
              "        2, 2, 2, 2, 2, 2, 2, 2, 2, 2, 2, 2, 2, 2, 2, 2, 2, 2]),\n",
              " 'frame': None,\n",
              " 'target_names': array(['setosa', 'versicolor', 'virginica'], dtype='<U10'),\n",
              " 'DESCR': '.. _iris_dataset:\\n\\nIris plants dataset\\n--------------------\\n\\n**Data Set Characteristics:**\\n\\n    :Number of Instances: 150 (50 in each of three classes)\\n    :Number of Attributes: 4 numeric, predictive attributes and the class\\n    :Attribute Information:\\n        - sepal length in cm\\n        - sepal width in cm\\n        - petal length in cm\\n        - petal width in cm\\n        - class:\\n                - Iris-Setosa\\n                - Iris-Versicolour\\n                - Iris-Virginica\\n                \\n    :Summary Statistics:\\n\\n    ============== ==== ==== ======= ===== ====================\\n                    Min  Max   Mean    SD   Class Correlation\\n    ============== ==== ==== ======= ===== ====================\\n    sepal length:   4.3  7.9   5.84   0.83    0.7826\\n    sepal width:    2.0  4.4   3.05   0.43   -0.4194\\n    petal length:   1.0  6.9   3.76   1.76    0.9490  (high!)\\n    petal width:    0.1  2.5   1.20   0.76    0.9565  (high!)\\n    ============== ==== ==== ======= ===== ====================\\n\\n    :Missing Attribute Values: None\\n    :Class Distribution: 33.3% for each of 3 classes.\\n    :Creator: R.A. Fisher\\n    :Donor: Michael Marshall (MARSHALL%PLU@io.arc.nasa.gov)\\n    :Date: July, 1988\\n\\nThe famous Iris database, first used by Sir R.A. Fisher. The dataset is taken\\nfrom Fisher\\'s paper. Note that it\\'s the same as in R, but not as in the UCI\\nMachine Learning Repository, which has two wrong data points.\\n\\nThis is perhaps the best known database to be found in the\\npattern recognition literature.  Fisher\\'s paper is a classic in the field and\\nis referenced frequently to this day.  (See Duda & Hart, for example.)  The\\ndata set contains 3 classes of 50 instances each, where each class refers to a\\ntype of iris plant.  One class is linearly separable from the other 2; the\\nlatter are NOT linearly separable from each other.\\n\\n.. topic:: References\\n\\n   - Fisher, R.A. \"The use of multiple measurements in taxonomic problems\"\\n     Annual Eugenics, 7, Part II, 179-188 (1936); also in \"Contributions to\\n     Mathematical Statistics\" (John Wiley, NY, 1950).\\n   - Duda, R.O., & Hart, P.E. (1973) Pattern Classification and Scene Analysis.\\n     (Q327.D83) John Wiley & Sons.  ISBN 0-471-22361-1.  See page 218.\\n   - Dasarathy, B.V. (1980) \"Nosing Around the Neighborhood: A New System\\n     Structure and Classification Rule for Recognition in Partially Exposed\\n     Environments\".  IEEE Transactions on Pattern Analysis and Machine\\n     Intelligence, Vol. PAMI-2, No. 1, 67-71.\\n   - Gates, G.W. (1972) \"The Reduced Nearest Neighbor Rule\".  IEEE Transactions\\n     on Information Theory, May 1972, 431-433.\\n   - See also: 1988 MLC Proceedings, 54-64.  Cheeseman et al\"s AUTOCLASS II\\n     conceptual clustering system finds 3 classes in the data.\\n   - Many, many more ...',\n",
              " 'feature_names': ['sepal length (cm)',\n",
              "  'sepal width (cm)',\n",
              "  'petal length (cm)',\n",
              "  'petal width (cm)'],\n",
              " 'filename': 'iris.csv',\n",
              " 'data_module': 'sklearn.datasets.data'}"
            ]
          },
          "metadata": {},
          "execution_count": 18
        }
      ]
    },
    {
      "cell_type": "code",
      "source": [
        "X = iris['data'] #Se asiganan las variables\n",
        "Y = iris['target']\n"
      ],
      "metadata": {
        "id": "TYPt0bonVobd"
      },
      "execution_count": 13,
      "outputs": []
    },
    {
      "cell_type": "code",
      "source": [
        "X.shape  #verificar que si se hayan asignado las variables"
      ],
      "metadata": {
        "colab": {
          "base_uri": "https://localhost:8080/"
        },
        "id": "XrJxvz4JWO2K",
        "outputId": "e2c42fa9-670e-4fc5-bd82-8eb08ff9a0a5"
      },
      "execution_count": 14,
      "outputs": [
        {
          "output_type": "execute_result",
          "data": {
            "text/plain": [
              "(150, 4)"
            ]
          },
          "metadata": {},
          "execution_count": 14
        }
      ]
    },
    {
      "cell_type": "code",
      "source": [
        "Y.shape  #verificar que si se hayan asignado las variables"
      ],
      "metadata": {
        "colab": {
          "base_uri": "https://localhost:8080/"
        },
        "id": "A7iniTqHWYe0",
        "outputId": "aacb7081-2aff-4ce2-d491-8b2919587115"
      },
      "execution_count": 15,
      "outputs": [
        {
          "output_type": "execute_result",
          "data": {
            "text/plain": [
              "(150,)"
            ]
          },
          "metadata": {},
          "execution_count": 15
        }
      ]
    },
    {
      "cell_type": "code",
      "source": [
        "Y = to_categorical(Y) #Detecta cuantos numeros tienes, em automatico le asigna un uno en una columna\n"
      ],
      "metadata": {
        "id": "KxWOW3iwWbzV"
      },
      "execution_count": 16,
      "outputs": []
    },
    {
      "cell_type": "code",
      "source": [
        "Y"
      ],
      "metadata": {
        "id": "i7jMvmaMWxU2"
      },
      "execution_count": null,
      "outputs": []
    },
    {
      "cell_type": "code",
      "source": [
        "scaler = MinMaxScaler(feature_range=(0,1)) #normalizar\n",
        "#Separar datos de entrenamiento\n",
        "x_train, x_test, y_train, y_test = train_test_split(X,Y,test_size=0.5, shuffle=True)"
      ],
      "metadata": {
        "id": "zrwaMG-RW606"
      },
      "execution_count": 32,
      "outputs": []
    },
    {
      "cell_type": "markdown",
      "source": [],
      "metadata": {
        "id": "2lMvNXe-ZZ3z"
      }
    },
    {
      "cell_type": "code",
      "source": [
        "#se crea un modelo de tipo sequencial\n",
        "model = Sequential()\n",
        "model.add(Dense(10, input_dim=4,activation='relu'))\n",
        "model.add(Dense(9, activation='relu'))\n",
        "model.add(Dense(5, activation='relu'))\n",
        "model.add(Dense(3,activation='relu'))"
      ],
      "metadata": {
        "id": "UrvvcxMoYxMH"
      },
      "execution_count": 64,
      "outputs": []
    },
    {
      "cell_type": "code",
      "source": [
        "#se compila el modelo\n",
        "model.compile(loss='categorical_crossentropy', optimizer='adam', metrics='accuracy')\n"
      ],
      "metadata": {
        "id": "6dehYLq8j1kE"
      },
      "execution_count": 65,
      "outputs": []
    },
    {
      "cell_type": "code",
      "source": [
        "history = model.fit(x_train, y_train, validation_data=(x_test ,y_test), epochs=150)"
      ],
      "metadata": {
        "colab": {
          "base_uri": "https://localhost:8080/"
        },
        "id": "BzqBJbLskHUJ",
        "outputId": "5d0cefd4-ee92-4fef-ccb4-23b3dce9c88b"
      },
      "execution_count": 66,
      "outputs": [
        {
          "output_type": "stream",
          "name": "stdout",
          "text": [
            "Epoch 1/150\n",
            "3/3 [==============================] - 1s 103ms/step - loss: 6.2470 - accuracy: 0.3333 - val_loss: 5.4330 - val_accuracy: 0.3333\n",
            "Epoch 2/150\n",
            "3/3 [==============================] - 0s 27ms/step - loss: 6.2362 - accuracy: 0.3333 - val_loss: 5.4271 - val_accuracy: 0.3333\n",
            "Epoch 3/150\n",
            "3/3 [==============================] - 0s 28ms/step - loss: 6.2302 - accuracy: 0.3333 - val_loss: 5.4177 - val_accuracy: 0.3333\n",
            "Epoch 4/150\n",
            "3/3 [==============================] - 0s 24ms/step - loss: 6.2220 - accuracy: 0.3333 - val_loss: 5.4092 - val_accuracy: 0.3333\n",
            "Epoch 5/150\n",
            "3/3 [==============================] - 0s 26ms/step - loss: 6.2160 - accuracy: 0.3600 - val_loss: 5.4022 - val_accuracy: 0.3600\n",
            "Epoch 6/150\n",
            "3/3 [==============================] - 0s 28ms/step - loss: 6.2095 - accuracy: 0.4000 - val_loss: 5.3963 - val_accuracy: 0.4400\n",
            "Epoch 7/150\n",
            "3/3 [==============================] - 0s 29ms/step - loss: 6.2038 - accuracy: 0.4933 - val_loss: 5.3908 - val_accuracy: 0.5200\n",
            "Epoch 8/150\n",
            "3/3 [==============================] - 0s 28ms/step - loss: 6.1996 - accuracy: 0.5600 - val_loss: 5.3854 - val_accuracy: 0.6533\n",
            "Epoch 9/150\n",
            "3/3 [==============================] - 0s 26ms/step - loss: 6.1953 - accuracy: 0.6133 - val_loss: 5.3802 - val_accuracy: 0.6667\n",
            "Epoch 10/150\n",
            "3/3 [==============================] - 0s 29ms/step - loss: 6.1911 - accuracy: 0.6133 - val_loss: 5.3740 - val_accuracy: 0.6667\n",
            "Epoch 11/150\n",
            "3/3 [==============================] - 0s 30ms/step - loss: 6.1835 - accuracy: 0.6133 - val_loss: 5.3674 - val_accuracy: 0.6800\n",
            "Epoch 12/150\n",
            "3/3 [==============================] - 0s 26ms/step - loss: 6.1741 - accuracy: 0.6133 - val_loss: 5.3593 - val_accuracy: 0.6800\n",
            "Epoch 13/150\n",
            "3/3 [==============================] - 0s 23ms/step - loss: 6.1633 - accuracy: 0.6133 - val_loss: 5.3481 - val_accuracy: 0.6667\n",
            "Epoch 14/150\n",
            "3/3 [==============================] - 0s 27ms/step - loss: 6.1482 - accuracy: 0.6000 - val_loss: 5.3358 - val_accuracy: 0.6400\n",
            "Epoch 15/150\n",
            "3/3 [==============================] - 0s 19ms/step - loss: 5.9503 - accuracy: 0.6000 - val_loss: 5.3250 - val_accuracy: 0.6267\n",
            "Epoch 16/150\n",
            "3/3 [==============================] - 0s 27ms/step - loss: 5.7397 - accuracy: 0.5733 - val_loss: 3.4431 - val_accuracy: 0.6267\n",
            "Epoch 17/150\n",
            "3/3 [==============================] - 0s 19ms/step - loss: 2.7124 - accuracy: 0.6533 - val_loss: 0.8322 - val_accuracy: 0.7200\n",
            "Epoch 18/150\n",
            "3/3 [==============================] - 0s 26ms/step - loss: 0.7044 - accuracy: 0.8133 - val_loss: 0.4072 - val_accuracy: 0.9067\n",
            "Epoch 19/150\n",
            "3/3 [==============================] - 0s 20ms/step - loss: 0.3257 - accuracy: 0.9333 - val_loss: 0.3568 - val_accuracy: 0.9333\n",
            "Epoch 20/150\n",
            "3/3 [==============================] - 0s 28ms/step - loss: 0.2989 - accuracy: 0.9467 - val_loss: 0.3402 - val_accuracy: 0.9467\n",
            "Epoch 21/150\n",
            "3/3 [==============================] - 0s 26ms/step - loss: 0.2861 - accuracy: 0.9600 - val_loss: 0.3254 - val_accuracy: 0.9467\n",
            "Epoch 22/150\n",
            "3/3 [==============================] - 0s 19ms/step - loss: 0.2691 - accuracy: 0.9600 - val_loss: 0.3080 - val_accuracy: 0.9733\n",
            "Epoch 23/150\n",
            "3/3 [==============================] - 0s 19ms/step - loss: 0.2506 - accuracy: 0.9600 - val_loss: 0.2855 - val_accuracy: 0.9733\n",
            "Epoch 24/150\n",
            "3/3 [==============================] - 0s 20ms/step - loss: 0.2261 - accuracy: 0.9733 - val_loss: 0.2593 - val_accuracy: 0.9867\n",
            "Epoch 25/150\n",
            "3/3 [==============================] - 0s 25ms/step - loss: 0.1997 - accuracy: 0.9733 - val_loss: 0.2291 - val_accuracy: 0.9867\n",
            "Epoch 26/150\n",
            "3/3 [==============================] - 0s 18ms/step - loss: 0.1691 - accuracy: 0.9600 - val_loss: 0.1903 - val_accuracy: 0.9867\n",
            "Epoch 27/150\n",
            "3/3 [==============================] - 0s 21ms/step - loss: 0.1352 - accuracy: 0.9600 - val_loss: 0.1490 - val_accuracy: 0.9867\n",
            "Epoch 28/150\n",
            "3/3 [==============================] - 0s 28ms/step - loss: 0.1098 - accuracy: 0.9600 - val_loss: 0.1121 - val_accuracy: 0.9867\n",
            "Epoch 29/150\n",
            "3/3 [==============================] - 0s 19ms/step - loss: 0.0982 - accuracy: 0.9600 - val_loss: 0.0860 - val_accuracy: 0.9867\n",
            "Epoch 30/150\n",
            "3/3 [==============================] - 0s 20ms/step - loss: 0.0959 - accuracy: 0.9600 - val_loss: 0.0717 - val_accuracy: 0.9867\n",
            "Epoch 31/150\n",
            "3/3 [==============================] - 0s 28ms/step - loss: 0.1010 - accuracy: 0.9600 - val_loss: 0.0677 - val_accuracy: 0.9867\n",
            "Epoch 32/150\n",
            "3/3 [==============================] - 0s 27ms/step - loss: 0.0892 - accuracy: 0.9733 - val_loss: 0.0730 - val_accuracy: 0.9867\n",
            "Epoch 33/150\n",
            "3/3 [==============================] - 0s 26ms/step - loss: 0.0880 - accuracy: 0.9867 - val_loss: 0.0758 - val_accuracy: 0.9600\n",
            "Epoch 34/150\n",
            "3/3 [==============================] - 0s 27ms/step - loss: 0.0846 - accuracy: 0.9867 - val_loss: 0.0696 - val_accuracy: 0.9867\n",
            "Epoch 35/150\n",
            "3/3 [==============================] - 0s 20ms/step - loss: 0.0782 - accuracy: 0.9867 - val_loss: 0.0637 - val_accuracy: 0.9867\n",
            "Epoch 36/150\n",
            "3/3 [==============================] - 0s 20ms/step - loss: 0.0786 - accuracy: 0.9733 - val_loss: 0.0621 - val_accuracy: 0.9867\n",
            "Epoch 37/150\n",
            "3/3 [==============================] - 0s 21ms/step - loss: 0.0835 - accuracy: 0.9733 - val_loss: 0.0627 - val_accuracy: 0.9867\n",
            "Epoch 38/150\n",
            "3/3 [==============================] - 0s 28ms/step - loss: 0.0777 - accuracy: 0.9733 - val_loss: 0.0640 - val_accuracy: 0.9867\n",
            "Epoch 39/150\n",
            "3/3 [==============================] - 0s 26ms/step - loss: 0.0747 - accuracy: 0.9867 - val_loss: 0.0656 - val_accuracy: 0.9867\n",
            "Epoch 40/150\n",
            "3/3 [==============================] - 0s 21ms/step - loss: 0.0743 - accuracy: 0.9867 - val_loss: 0.0626 - val_accuracy: 0.9867\n",
            "Epoch 41/150\n",
            "3/3 [==============================] - 0s 19ms/step - loss: 0.0749 - accuracy: 0.9867 - val_loss: 0.0627 - val_accuracy: 0.9867\n",
            "Epoch 42/150\n",
            "3/3 [==============================] - 0s 19ms/step - loss: 0.0725 - accuracy: 0.9867 - val_loss: 0.0684 - val_accuracy: 0.9867\n",
            "Epoch 43/150\n",
            "3/3 [==============================] - 0s 28ms/step - loss: 0.0748 - accuracy: 0.9867 - val_loss: 0.0716 - val_accuracy: 0.9733\n",
            "Epoch 44/150\n",
            "3/3 [==============================] - 0s 26ms/step - loss: 0.0765 - accuracy: 0.9733 - val_loss: 0.0721 - val_accuracy: 0.9600\n",
            "Epoch 45/150\n",
            "3/3 [==============================] - 0s 26ms/step - loss: 0.0757 - accuracy: 0.9733 - val_loss: 0.0647 - val_accuracy: 0.9867\n",
            "Epoch 46/150\n",
            "3/3 [==============================] - 0s 29ms/step - loss: 0.0723 - accuracy: 0.9867 - val_loss: 0.0593 - val_accuracy: 0.9867\n",
            "Epoch 47/150\n",
            "3/3 [==============================] - 0s 22ms/step - loss: 0.0747 - accuracy: 0.9867 - val_loss: 0.0597 - val_accuracy: 0.9867\n",
            "Epoch 48/150\n",
            "3/3 [==============================] - 0s 28ms/step - loss: 0.0687 - accuracy: 0.9867 - val_loss: 0.0718 - val_accuracy: 0.9600\n",
            "Epoch 49/150\n",
            "3/3 [==============================] - 0s 26ms/step - loss: 0.0750 - accuracy: 0.9733 - val_loss: 0.0833 - val_accuracy: 0.9467\n",
            "Epoch 50/150\n",
            "3/3 [==============================] - 0s 20ms/step - loss: 0.0820 - accuracy: 0.9467 - val_loss: 0.0804 - val_accuracy: 0.9600\n",
            "Epoch 51/150\n",
            "3/3 [==============================] - 0s 19ms/step - loss: 0.0782 - accuracy: 0.9467 - val_loss: 0.0737 - val_accuracy: 0.9600\n",
            "Epoch 52/150\n",
            "3/3 [==============================] - 0s 19ms/step - loss: 0.0752 - accuracy: 0.9733 - val_loss: 0.0624 - val_accuracy: 0.9733\n",
            "Epoch 53/150\n",
            "3/3 [==============================] - 0s 26ms/step - loss: 0.0694 - accuracy: 0.9867 - val_loss: 0.0562 - val_accuracy: 0.9867\n",
            "Epoch 54/150\n",
            "3/3 [==============================] - 0s 19ms/step - loss: 0.0701 - accuracy: 0.9733 - val_loss: 0.0525 - val_accuracy: 0.9867\n",
            "Epoch 55/150\n",
            "3/3 [==============================] - 0s 29ms/step - loss: 0.0952 - accuracy: 0.9733 - val_loss: 0.0623 - val_accuracy: 0.9733\n",
            "Epoch 56/150\n",
            "3/3 [==============================] - 0s 19ms/step - loss: 0.0794 - accuracy: 0.9867 - val_loss: 0.1288 - val_accuracy: 0.9333\n",
            "Epoch 57/150\n",
            "3/3 [==============================] - 0s 20ms/step - loss: 0.1310 - accuracy: 0.9333 - val_loss: 0.1901 - val_accuracy: 0.9067\n",
            "Epoch 58/150\n",
            "3/3 [==============================] - 0s 21ms/step - loss: 0.1674 - accuracy: 0.9067 - val_loss: 0.2045 - val_accuracy: 0.8933\n",
            "Epoch 59/150\n",
            "3/3 [==============================] - 0s 20ms/step - loss: 0.1768 - accuracy: 0.9067 - val_loss: 0.1930 - val_accuracy: 0.9067\n",
            "Epoch 60/150\n",
            "3/3 [==============================] - 0s 27ms/step - loss: 0.1650 - accuracy: 0.9200 - val_loss: 0.1797 - val_accuracy: 0.9200\n",
            "Epoch 61/150\n",
            "3/3 [==============================] - 0s 27ms/step - loss: 0.1536 - accuracy: 0.9333 - val_loss: 0.1658 - val_accuracy: 0.9467\n",
            "Epoch 62/150\n",
            "3/3 [==============================] - 0s 24ms/step - loss: 0.1399 - accuracy: 0.9467 - val_loss: 0.1576 - val_accuracy: 0.9467\n",
            "Epoch 63/150\n",
            "3/3 [==============================] - 0s 30ms/step - loss: 0.1301 - accuracy: 0.9733 - val_loss: 0.1523 - val_accuracy: 0.9867\n",
            "Epoch 64/150\n",
            "3/3 [==============================] - 0s 27ms/step - loss: 0.1212 - accuracy: 0.9733 - val_loss: 0.1490 - val_accuracy: 0.9867\n",
            "Epoch 65/150\n",
            "3/3 [==============================] - 0s 21ms/step - loss: 0.1180 - accuracy: 0.9733 - val_loss: 0.1450 - val_accuracy: 0.9867\n",
            "Epoch 66/150\n",
            "3/3 [==============================] - 0s 26ms/step - loss: 0.1140 - accuracy: 0.9600 - val_loss: 0.1396 - val_accuracy: 0.9867\n",
            "Epoch 67/150\n",
            "3/3 [==============================] - 0s 20ms/step - loss: 0.1102 - accuracy: 0.9600 - val_loss: 0.1328 - val_accuracy: 0.9867\n",
            "Epoch 68/150\n",
            "3/3 [==============================] - 0s 29ms/step - loss: 0.1042 - accuracy: 0.9600 - val_loss: 0.1256 - val_accuracy: 0.9867\n",
            "Epoch 69/150\n",
            "3/3 [==============================] - 0s 28ms/step - loss: 0.1001 - accuracy: 0.9600 - val_loss: 0.1174 - val_accuracy: 0.9867\n",
            "Epoch 70/150\n",
            "3/3 [==============================] - 0s 20ms/step - loss: 0.0960 - accuracy: 0.9600 - val_loss: 0.1093 - val_accuracy: 0.9867\n",
            "Epoch 71/150\n",
            "3/3 [==============================] - 0s 21ms/step - loss: 0.0916 - accuracy: 0.9600 - val_loss: 0.1013 - val_accuracy: 0.9867\n",
            "Epoch 72/150\n",
            "3/3 [==============================] - 0s 21ms/step - loss: 0.0880 - accuracy: 0.9600 - val_loss: 0.0941 - val_accuracy: 0.9867\n",
            "Epoch 73/150\n",
            "3/3 [==============================] - 0s 20ms/step - loss: 0.0853 - accuracy: 0.9600 - val_loss: 0.0876 - val_accuracy: 0.9867\n",
            "Epoch 74/150\n",
            "3/3 [==============================] - 0s 28ms/step - loss: 0.0830 - accuracy: 0.9600 - val_loss: 0.0814 - val_accuracy: 0.9867\n",
            "Epoch 75/150\n",
            "3/3 [==============================] - 0s 26ms/step - loss: 0.0809 - accuracy: 0.9733 - val_loss: 0.0766 - val_accuracy: 0.9867\n",
            "Epoch 76/150\n",
            "3/3 [==============================] - 0s 27ms/step - loss: 0.0769 - accuracy: 0.9733 - val_loss: 0.0724 - val_accuracy: 0.9867\n",
            "Epoch 77/150\n",
            "3/3 [==============================] - 0s 27ms/step - loss: 0.0749 - accuracy: 0.9733 - val_loss: 0.0698 - val_accuracy: 0.9867\n",
            "Epoch 78/150\n",
            "3/3 [==============================] - 0s 19ms/step - loss: 0.0742 - accuracy: 0.9867 - val_loss: 0.0689 - val_accuracy: 0.9867\n",
            "Epoch 79/150\n",
            "3/3 [==============================] - 0s 28ms/step - loss: 0.0736 - accuracy: 0.9867 - val_loss: 0.0677 - val_accuracy: 0.9867\n",
            "Epoch 80/150\n",
            "3/3 [==============================] - 0s 25ms/step - loss: 0.0731 - accuracy: 0.9867 - val_loss: 0.0656 - val_accuracy: 0.9867\n",
            "Epoch 81/150\n",
            "3/3 [==============================] - 0s 27ms/step - loss: 0.0723 - accuracy: 0.9867 - val_loss: 0.0613 - val_accuracy: 0.9867\n",
            "Epoch 82/150\n",
            "3/3 [==============================] - 0s 20ms/step - loss: 0.0702 - accuracy: 0.9867 - val_loss: 0.0583 - val_accuracy: 0.9867\n",
            "Epoch 83/150\n",
            "3/3 [==============================] - 0s 19ms/step - loss: 0.0700 - accuracy: 0.9867 - val_loss: 0.0557 - val_accuracy: 0.9867\n",
            "Epoch 84/150\n",
            "3/3 [==============================] - 0s 19ms/step - loss: 0.0711 - accuracy: 0.9867 - val_loss: 0.0534 - val_accuracy: 0.9867\n",
            "Epoch 85/150\n",
            "3/3 [==============================] - 0s 20ms/step - loss: 0.0725 - accuracy: 0.9733 - val_loss: 0.0520 - val_accuracy: 0.9867\n",
            "Epoch 86/150\n",
            "3/3 [==============================] - 0s 21ms/step - loss: 0.0731 - accuracy: 0.9733 - val_loss: 0.0519 - val_accuracy: 0.9867\n",
            "Epoch 87/150\n",
            "3/3 [==============================] - 0s 23ms/step - loss: 0.0722 - accuracy: 0.9733 - val_loss: 0.0536 - val_accuracy: 0.9867\n",
            "Epoch 88/150\n",
            "3/3 [==============================] - 0s 29ms/step - loss: 0.0693 - accuracy: 0.9733 - val_loss: 0.0596 - val_accuracy: 0.9867\n",
            "Epoch 89/150\n",
            "3/3 [==============================] - 0s 29ms/step - loss: 0.0717 - accuracy: 0.9867 - val_loss: 0.0650 - val_accuracy: 0.9733\n",
            "Epoch 90/150\n",
            "3/3 [==============================] - 0s 20ms/step - loss: 0.0702 - accuracy: 0.9733 - val_loss: 0.0649 - val_accuracy: 0.9733\n",
            "Epoch 91/150\n",
            "3/3 [==============================] - 0s 19ms/step - loss: 0.0701 - accuracy: 0.9733 - val_loss: 0.0619 - val_accuracy: 0.9867\n",
            "Epoch 92/150\n",
            "3/3 [==============================] - 0s 20ms/step - loss: 0.0704 - accuracy: 0.9867 - val_loss: 0.0593 - val_accuracy: 0.9867\n",
            "Epoch 93/150\n",
            "3/3 [==============================] - 0s 27ms/step - loss: 0.0691 - accuracy: 0.9733 - val_loss: 0.0592 - val_accuracy: 0.9867\n",
            "Epoch 94/150\n",
            "3/3 [==============================] - 0s 20ms/step - loss: 0.0691 - accuracy: 0.9733 - val_loss: 0.0590 - val_accuracy: 0.9867\n",
            "Epoch 95/150\n",
            "3/3 [==============================] - 0s 26ms/step - loss: 0.0684 - accuracy: 0.9733 - val_loss: 0.0607 - val_accuracy: 0.9867\n",
            "Epoch 96/150\n",
            "3/3 [==============================] - 0s 20ms/step - loss: 0.0692 - accuracy: 0.9867 - val_loss: 0.0641 - val_accuracy: 0.9733\n",
            "Epoch 97/150\n",
            "3/3 [==============================] - 0s 26ms/step - loss: 0.0694 - accuracy: 0.9867 - val_loss: 0.0659 - val_accuracy: 0.9600\n",
            "Epoch 98/150\n",
            "3/3 [==============================] - 0s 32ms/step - loss: 0.0702 - accuracy: 0.9733 - val_loss: 0.0680 - val_accuracy: 0.9600\n",
            "Epoch 99/150\n",
            "3/3 [==============================] - 0s 30ms/step - loss: 0.0707 - accuracy: 0.9733 - val_loss: 0.0710 - val_accuracy: 0.9467\n",
            "Epoch 100/150\n",
            "3/3 [==============================] - 0s 26ms/step - loss: 0.0718 - accuracy: 0.9733 - val_loss: 0.0705 - val_accuracy: 0.9467\n",
            "Epoch 101/150\n",
            "3/3 [==============================] - 0s 28ms/step - loss: 0.0711 - accuracy: 0.9733 - val_loss: 0.0672 - val_accuracy: 0.9600\n",
            "Epoch 102/150\n",
            "3/3 [==============================] - 0s 21ms/step - loss: 0.0692 - accuracy: 0.9733 - val_loss: 0.0640 - val_accuracy: 0.9600\n",
            "Epoch 103/150\n",
            "3/3 [==============================] - 0s 28ms/step - loss: 0.0683 - accuracy: 0.9733 - val_loss: 0.0586 - val_accuracy: 0.9733\n",
            "Epoch 104/150\n",
            "3/3 [==============================] - 0s 21ms/step - loss: 0.0677 - accuracy: 0.9867 - val_loss: 0.0544 - val_accuracy: 0.9733\n",
            "Epoch 105/150\n",
            "3/3 [==============================] - 0s 28ms/step - loss: 0.0702 - accuracy: 0.9867 - val_loss: 0.0532 - val_accuracy: 0.9867\n",
            "Epoch 106/150\n",
            "3/3 [==============================] - 0s 20ms/step - loss: 0.0657 - accuracy: 0.9867 - val_loss: 0.0595 - val_accuracy: 0.9600\n",
            "Epoch 107/150\n",
            "3/3 [==============================] - 0s 27ms/step - loss: 0.0657 - accuracy: 0.9733 - val_loss: 0.0680 - val_accuracy: 0.9467\n",
            "Epoch 108/150\n",
            "3/3 [==============================] - 0s 22ms/step - loss: 0.0694 - accuracy: 0.9733 - val_loss: 0.0747 - val_accuracy: 0.9600\n",
            "Epoch 109/150\n",
            "3/3 [==============================] - 0s 26ms/step - loss: 0.0719 - accuracy: 0.9467 - val_loss: 0.0757 - val_accuracy: 0.9600\n",
            "Epoch 110/150\n",
            "3/3 [==============================] - 0s 26ms/step - loss: 0.0714 - accuracy: 0.9467 - val_loss: 0.0716 - val_accuracy: 0.9467\n",
            "Epoch 111/150\n",
            "3/3 [==============================] - 0s 28ms/step - loss: 0.0691 - accuracy: 0.9733 - val_loss: 0.0651 - val_accuracy: 0.9600\n",
            "Epoch 112/150\n",
            "3/3 [==============================] - 0s 20ms/step - loss: 0.0667 - accuracy: 0.9733 - val_loss: 0.0594 - val_accuracy: 0.9600\n",
            "Epoch 113/150\n",
            "3/3 [==============================] - 0s 19ms/step - loss: 0.0667 - accuracy: 0.9867 - val_loss: 0.0541 - val_accuracy: 0.9733\n",
            "Epoch 114/150\n",
            "3/3 [==============================] - 0s 35ms/step - loss: 0.0679 - accuracy: 0.9867 - val_loss: 0.0526 - val_accuracy: 0.9733\n",
            "Epoch 115/150\n",
            "3/3 [==============================] - 0s 27ms/step - loss: 0.0673 - accuracy: 0.9867 - val_loss: 0.0587 - val_accuracy: 0.9600\n",
            "Epoch 116/150\n",
            "3/3 [==============================] - 0s 27ms/step - loss: 0.0673 - accuracy: 0.9733 - val_loss: 0.0639 - val_accuracy: 0.9600\n",
            "Epoch 117/150\n",
            "3/3 [==============================] - 0s 20ms/step - loss: 0.0666 - accuracy: 0.9733 - val_loss: 0.0659 - val_accuracy: 0.9467\n",
            "Epoch 118/150\n",
            "3/3 [==============================] - 0s 19ms/step - loss: 0.0666 - accuracy: 0.9733 - val_loss: 0.0639 - val_accuracy: 0.9600\n",
            "Epoch 119/150\n",
            "3/3 [==============================] - 0s 21ms/step - loss: 0.0661 - accuracy: 0.9733 - val_loss: 0.0611 - val_accuracy: 0.9600\n",
            "Epoch 120/150\n",
            "3/3 [==============================] - 0s 20ms/step - loss: 0.0661 - accuracy: 0.9733 - val_loss: 0.0586 - val_accuracy: 0.9600\n",
            "Epoch 121/150\n",
            "3/3 [==============================] - 0s 27ms/step - loss: 0.0657 - accuracy: 0.9733 - val_loss: 0.0598 - val_accuracy: 0.9600\n",
            "Epoch 122/150\n",
            "3/3 [==============================] - 0s 27ms/step - loss: 0.0661 - accuracy: 0.9733 - val_loss: 0.0604 - val_accuracy: 0.9600\n",
            "Epoch 123/150\n",
            "3/3 [==============================] - 0s 28ms/step - loss: 0.0645 - accuracy: 0.9733 - val_loss: 0.0660 - val_accuracy: 0.9467\n",
            "Epoch 124/150\n",
            "3/3 [==============================] - 0s 19ms/step - loss: 0.0659 - accuracy: 0.9733 - val_loss: 0.0712 - val_accuracy: 0.9600\n",
            "Epoch 125/150\n",
            "3/3 [==============================] - 0s 22ms/step - loss: 0.0685 - accuracy: 0.9600 - val_loss: 0.0711 - val_accuracy: 0.9600\n",
            "Epoch 126/150\n",
            "3/3 [==============================] - 0s 26ms/step - loss: 0.0683 - accuracy: 0.9600 - val_loss: 0.0681 - val_accuracy: 0.9467\n",
            "Epoch 127/150\n",
            "3/3 [==============================] - 0s 26ms/step - loss: 0.0676 - accuracy: 0.9733 - val_loss: 0.0685 - val_accuracy: 0.9467\n",
            "Epoch 128/150\n",
            "3/3 [==============================] - 0s 30ms/step - loss: 0.0674 - accuracy: 0.9733 - val_loss: 0.0619 - val_accuracy: 0.9600\n",
            "Epoch 129/150\n",
            "3/3 [==============================] - 0s 26ms/step - loss: 0.0649 - accuracy: 0.9733 - val_loss: 0.0564 - val_accuracy: 0.9600\n",
            "Epoch 130/150\n",
            "3/3 [==============================] - 0s 27ms/step - loss: 0.0635 - accuracy: 0.9733 - val_loss: 0.0520 - val_accuracy: 0.9733\n",
            "Epoch 131/150\n",
            "3/3 [==============================] - 0s 33ms/step - loss: 0.0640 - accuracy: 0.9867 - val_loss: 0.0483 - val_accuracy: 0.9733\n",
            "Epoch 132/150\n",
            "3/3 [==============================] - 0s 27ms/step - loss: 0.0669 - accuracy: 0.9867 - val_loss: 0.0491 - val_accuracy: 0.9733\n",
            "Epoch 133/150\n",
            "3/3 [==============================] - 0s 27ms/step - loss: 0.0652 - accuracy: 0.9867 - val_loss: 0.0567 - val_accuracy: 0.9600\n",
            "Epoch 134/150\n",
            "3/3 [==============================] - 0s 26ms/step - loss: 0.0649 - accuracy: 0.9733 - val_loss: 0.0603 - val_accuracy: 0.9600\n",
            "Epoch 135/150\n",
            "3/3 [==============================] - 0s 20ms/step - loss: 0.0647 - accuracy: 0.9733 - val_loss: 0.0557 - val_accuracy: 0.9600\n",
            "Epoch 136/150\n",
            "3/3 [==============================] - 0s 21ms/step - loss: 0.0636 - accuracy: 0.9733 - val_loss: 0.0538 - val_accuracy: 0.9600\n",
            "Epoch 137/150\n",
            "3/3 [==============================] - 0s 31ms/step - loss: 0.0624 - accuracy: 0.9867 - val_loss: 0.0494 - val_accuracy: 0.9733\n",
            "Epoch 138/150\n",
            "3/3 [==============================] - 0s 32ms/step - loss: 0.0715 - accuracy: 0.9867 - val_loss: 0.0521 - val_accuracy: 0.9733\n",
            "Epoch 139/150\n",
            "3/3 [==============================] - 0s 29ms/step - loss: 0.0601 - accuracy: 0.9867 - val_loss: 0.0721 - val_accuracy: 0.9600\n",
            "Epoch 140/150\n",
            "3/3 [==============================] - 0s 34ms/step - loss: 0.0690 - accuracy: 0.9600 - val_loss: 0.0885 - val_accuracy: 0.9467\n",
            "Epoch 141/150\n",
            "3/3 [==============================] - 0s 28ms/step - loss: 0.0770 - accuracy: 0.9467 - val_loss: 0.0930 - val_accuracy: 0.9467\n",
            "Epoch 142/150\n",
            "3/3 [==============================] - 0s 33ms/step - loss: 0.0790 - accuracy: 0.9467 - val_loss: 0.0852 - val_accuracy: 0.9467\n",
            "Epoch 143/150\n",
            "3/3 [==============================] - 0s 32ms/step - loss: 0.0737 - accuracy: 0.9467 - val_loss: 0.0736 - val_accuracy: 0.9600\n",
            "Epoch 144/150\n",
            "3/3 [==============================] - 0s 32ms/step - loss: 0.0684 - accuracy: 0.9733 - val_loss: 0.0618 - val_accuracy: 0.9733\n",
            "Epoch 145/150\n",
            "3/3 [==============================] - 0s 34ms/step - loss: 0.0651 - accuracy: 0.9867 - val_loss: 0.0531 - val_accuracy: 0.9867\n",
            "Epoch 146/150\n",
            "3/3 [==============================] - 0s 42ms/step - loss: 0.0642 - accuracy: 0.9733 - val_loss: 0.0485 - val_accuracy: 0.9867\n",
            "Epoch 147/150\n",
            "3/3 [==============================] - 0s 28ms/step - loss: 0.0669 - accuracy: 0.9733 - val_loss: 0.0468 - val_accuracy: 0.9867\n",
            "Epoch 148/150\n",
            "3/3 [==============================] - 0s 33ms/step - loss: 0.0665 - accuracy: 0.9733 - val_loss: 0.0491 - val_accuracy: 0.9867\n",
            "Epoch 149/150\n",
            "3/3 [==============================] - 0s 37ms/step - loss: 0.0645 - accuracy: 0.9867 - val_loss: 0.0528 - val_accuracy: 0.9733\n",
            "Epoch 150/150\n",
            "3/3 [==============================] - 0s 36ms/step - loss: 0.0650 - accuracy: 0.9867 - val_loss: 0.0640 - val_accuracy: 0.9600\n"
          ]
        }
      ]
    },
    {
      "cell_type": "code",
      "source": [],
      "metadata": {
        "id": "zRjJVa_WkkqP"
      },
      "execution_count": null,
      "outputs": []
    },
    {
      "cell_type": "code",
      "source": [
        "plt.plot(history.history['accuracy'])\n",
        "plt.plot(history.history['val_accuracy'],'r--')\n",
        "plt.title('Precision del modelo')\n",
        "plt.ylabel('Precision')\n",
        "plt.xlabel('Epocas')\n",
        "plt.legend(['Entrenamiento','Prueba'],loc='upper left')\n",
        "plt.show\n",
        "plt.savefig('figura0.png',dpi=300)\n"
      ],
      "metadata": {
        "id": "XnqZFOkJKzHU",
        "colab": {
          "base_uri": "https://localhost:8080/",
          "height": 472
        },
        "outputId": "81c8e0cf-28b1-449d-a035-203bd112fc27"
      },
      "execution_count": 57,
      "outputs": [
        {
          "output_type": "display_data",
          "data": {
            "text/plain": [
              "<Figure size 640x480 with 1 Axes>"
            ],
            "image/png": "[encoded data removed]"
          },
          "metadata": {}
        }
      ]
    }
  ]
}